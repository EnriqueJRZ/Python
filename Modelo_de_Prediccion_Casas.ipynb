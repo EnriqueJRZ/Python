{
  "nbformat": 4,
  "nbformat_minor": 0,
  "metadata": {
    "colab": {
      "provenance": []
    },
    "kernelspec": {
      "name": "python3",
      "display_name": "Python 3"
    },
    "language_info": {
      "name": "python"
    }
  },
  "cells": [
    {
      "cell_type": "code",
      "execution_count": null,
      "metadata": {
        "id": "UK2cpic4a3w6"
      },
      "outputs": [],
      "source": [
        "import numpy as np\n",
        "import seaborn as sns\n",
        "import requests\n",
        "from bs4 import BeautifulSoup\n",
        "url = 'https://www.flat.mx/venta/propiedades-en-ciudad-de-mexico'\n",
        "response = requests.get(url)\n",
        "soup = BeautifulSoup(response.content, 'html.parser')\n",
        "prec=[]\n",
        "informacionG=[]\n",
        "property_cards = soup.find_all('div', class_='relative mt-auto flex flex-row pr-8')\n",
        "for link in property_cards:\n",
        "     prec.append(link.text)"
      ]
    },
    {
      "cell_type": "code",
      "source": [
        "cadenas = prec\n",
        "precios = []\n",
        "for cadena in cadenas:\n",
        "    lista_subcadenas = cadena.split('$')\n",
        "    precio_sin_formato = lista_subcadenas[1].replace(',', '').replace('.', '')\n",
        "    precio_num = float(precio_sin_formato)\n",
        "    precios.append(precio_num)\n",
        "print(precios)\n"
      ],
      "metadata": {
        "colab": {
          "base_uri": "https://localhost:8080/"
        },
        "id": "43ut1_a0IoTt",
        "outputId": "f9be1ba9-89e9-4e55-d295-1874cf5f2986"
      },
      "execution_count": null,
      "outputs": [
        {
          "output_type": "stream",
          "name": "stdout",
          "text": [
            "[10000000.0, 1850000.0, 4900000.0, 3800000.0, 3895000.0, 2395000.0, 3240000.0, 1000000.0, 1600000.0, 3600000.0, 10500000.0, 5400000.0, 2350000.0, 7595000.0, 1000000.0, 3907209.0, 2280000.0, 5295000.0, 3545000.0, 5550000.0]\n"
          ]
        }
      ]
    },
    {
      "cell_type": "code",
      "source": [
        "\n",
        "x= soup.find_all('span', class_='ml-2 truncate font-montserrat text-xs font-bold tabular-nums text-black')\n",
        "for link in x:\n",
        "     informacionG.append(link.text)"
      ],
      "metadata": {
        "id": "uCM0G2LCH_As"
      },
      "execution_count": null,
      "outputs": []
    },
    {
      "cell_type": "code",
      "source": [
        "original_list = informacionG\n",
        "metros = []\n",
        "for i in range(0, len(original_list), 5):\n",
        "    metros.append(original_list[i])\n",
        "\n",
        "print(metros)"
      ],
      "metadata": {
        "id": "s7dxBbp6otVR",
        "colab": {
          "base_uri": "https://localhost:8080/"
        },
        "outputId": "63962ea6-a99d-4a86-97b4-5016bf1d3936"
      },
      "execution_count": null,
      "outputs": [
        {
          "output_type": "stream",
          "name": "stdout",
          "text": [
            "['655 m²', '96 m²', '335 m²', '220 m²', '82 m²', '69 m²', '127 m²', '44 m²', '59 m²', '83 m²', '660 m²', '243 m²', '82 m²', '280 m²', '49 m²', '114 m²', '80 m²', '129 m²', '82 m²', '144 m²']\n"
          ]
        }
      ]
    },
    {
      "cell_type": "code",
      "source": [
        "habitaciones= []\n",
        "for i in range(1, len(original_list), 5):\n",
        "    habitaciones.append(original_list[i])\n",
        "#convirtiendo la lista en numeros\n",
        "lista_texto = habitaciones\n",
        "lista_numeros = []\n",
        "for texto in lista_texto:\n",
        "    numero = int(texto)\n",
        "    lista_numeros.append(numero)"
      ],
      "metadata": {
        "id": "_2brfBej13GB"
      },
      "execution_count": null,
      "outputs": []
    },
    {
      "cell_type": "code",
      "source": [
        "lista_numeros\n",
        "#lista_numeros es igual a habitaciones"
      ],
      "metadata": {
        "colab": {
          "base_uri": "https://localhost:8080/"
        },
        "id": "JCmlTjP8KQFV",
        "outputId": "6b85188f-5655-411a-8031-1c1ae48f9abb"
      },
      "execution_count": null,
      "outputs": [
        {
          "output_type": "execute_result",
          "data": {
            "text/plain": [
              "[3, 2, 2, 3, 2, 1, 3, 2, 2, 3, 3, 2, 2, 4, 1, 1, 3, 3, 2, 3]"
            ]
          },
          "metadata": {},
          "execution_count": 7
        }
      ]
    },
    {
      "cell_type": "code",
      "source": [
        "arr1 = np.array(lista_numeros)\n",
        "arr2 = np.array(precios)\n",
        "\n",
        "# Calcular la matriz de correlación\n",
        "matriz_corr = np.corrcoef(arr1, arr2)\n",
        "\n",
        "# Imprimir la matriz de correlación\n",
        "print(matriz_corr)"
      ],
      "metadata": {
        "colab": {
          "base_uri": "https://localhost:8080/"
        },
        "id": "XBQ9OYi-Gs9y",
        "outputId": "d915b5d0-12d6-4784-d9fb-3ce69bebcb3a"
      },
      "execution_count": null,
      "outputs": [
        {
          "output_type": "stream",
          "name": "stdout",
          "text": [
            "[[1.         0.55534122]\n",
            " [0.55534122 1.        ]]\n"
          ]
        }
      ]
    },
    {
      "cell_type": "code",
      "source": [
        "from sklearn.linear_model import LinearRegression\n",
        "# Creamos un modelo de regresión lineal\n",
        "modelo = LinearRegression()\n",
        "\n",
        "# Entrenamos el modelo con los datos\n",
        "X = [[h] for h in lista_numeros]\n",
        "y = precios\n",
        "modelo.fit(X, y)\n",
        "\n",
        "\n",
        "prediccion = modelo.predict([[5]])\n",
        "print(prediccion)"
      ],
      "metadata": {
        "colab": {
          "base_uri": "https://localhost:8080/"
        },
        "id": "LDPO7nKIKy-E",
        "outputId": "e1d5f74f-0e84-4bfd-adb6-a7b11eaeff39"
      },
      "execution_count": null,
      "outputs": [
        {
          "output_type": "stream",
          "name": "stdout",
          "text": [
            "[9011492.70517929]\n"
          ]
        }
      ]
    }
  ]
}